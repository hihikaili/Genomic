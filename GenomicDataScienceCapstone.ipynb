{
  "nbformat": 4,
  "nbformat_minor": 0,
  "metadata": {
    "colab": {
      "name": "GenomicDataScienceCapstone.ipynb",
      "provenance": [],
      "machine_shape": "hm",
      "authorship_tag": "ABX9TyP61LUK6lIoJoDODV97CHIm",
      "include_colab_link": true
    },
    "kernelspec": {
      "name": "python3",
      "display_name": "Python 3"
    },
    "accelerator": "TPU"
  },
  "cells": [
    {
      "cell_type": "markdown",
      "metadata": {
        "id": "view-in-github",
        "colab_type": "text"
      },
      "source": [
        "<a href=\"https://colab.research.google.com/github/hihikaili/Genomic/blob/master/GenomicDataScienceCapstone.ipynb\" target=\"_parent\"><img src=\"https://colab.research.google.com/assets/colab-badge.svg\" alt=\"Open In Colab\"/></a>"
      ]
    },
    {
      "cell_type": "code",
      "metadata": {
        "id": "rTQxvemMX73o",
        "colab_type": "code",
        "outputId": "6da4acc2-ce6e-45ba-a3b0-6b1c0fe4aa8c",
        "colab": {
          "base_uri": "https://localhost:8080/",
          "height": 105
        }
      },
      "source": [
        "!ps -aux|grep python"
      ],
      "execution_count": 0,
      "outputs": [
        {
          "output_type": "stream",
          "text": [
            "root          18  0.0  0.2 1675368 105012 ?      Sl   15:02   0:10 /usr/bin/python2 /usr/local/bin/jupyter-notebook --ip=\"172.28.0.2\" --port=9000 --FileContentsManager.root_dir=\"/\" --MappingKernelManager.root_dir=\"/content\"\n",
            "root         533  0.0  0.4 1890564 157496 ?      Ssl  15:11   0:08 /usr/bin/python3 -m ipykernel_launcher -f /root/.local/share/jupyter/runtime/kernel-9644c9fd-c8df-4747-86ff-c598d0a8a37b.json\n",
            "root        2084  0.0  0.0  39196  6572 ?        S    19:14   0:00 /bin/bash -c ps -aux|grep python\n",
            "root        2086  0.0  0.0  38572  5644 ?        S    19:14   0:00 grep python\n"
          ],
          "name": "stdout"
        }
      ]
    },
    {
      "cell_type": "code",
      "metadata": {
        "id": "wVFRV1r9ZHmx",
        "colab_type": "code",
        "colab": {}
      },
      "source": [
        "!kill -9 2157 2217 2285 2287"
      ],
      "execution_count": 0,
      "outputs": []
    },
    {
      "cell_type": "code",
      "metadata": {
        "id": "wICAGbYxY-1V",
        "colab_type": "code",
        "outputId": "1dfff205-824e-4943-e3f9-b2de1b35282e",
        "colab": {
          "base_uri": "https://localhost:8080/",
          "height": 71
        }
      },
      "source": [
        "gpu_info = !nvidia-smi\n",
        "gpu_info = '\\n'.join(gpu_info)\n",
        "if gpu_info.find('failed') >= 0:\n",
        "  print('Select the Runtime > \"Change runtime type\" menu to enable a GPU accelerator, ')\n",
        "  print('and then re-execute this cell.')\n",
        "else:\n",
        "  print(gpu_info)"
      ],
      "execution_count": 0,
      "outputs": [
        {
          "output_type": "stream",
          "text": [
            "Select the Runtime > \"Change runtime type\" menu to enable a GPU accelerator, \n",
            "and then re-execute this cell.\n"
          ],
          "name": "stdout"
        }
      ]
    },
    {
      "cell_type": "code",
      "metadata": {
        "id": "30iIm83PZLwz",
        "colab_type": "code",
        "outputId": "cba76322-dab6-43d2-8415-6fe5cb26f54b",
        "colab": {
          "base_uri": "https://localhost:8080/",
          "height": 68
        }
      },
      "source": [
        "from psutil import virtual_memory\n",
        "ram_gb = virtual_memory().total / 1e9\n",
        "print('Your runtime has {:.1f} gigabytes of available RAM\\n'.format(ram_gb))\n",
        "\n",
        "if ram_gb < 20:\n",
        "  print('To enable a high-RAM runtime, select the Runtime > \"Change runtime type\"')\n",
        "  print('menu, and then select High-RAM in the Runtime shape dropdown. Then, ')\n",
        "  print('re-execute this cell.')\n",
        "else:\n",
        "  print('You are using a high-RAM runtime!')"
      ],
      "execution_count": 19,
      "outputs": [
        {
          "output_type": "stream",
          "text": [
            "Your runtime has 38.0 gigabytes of available RAM\n",
            "\n",
            "You are using a high-RAM runtime!\n"
          ],
          "name": "stdout"
        }
      ]
    },
    {
      "cell_type": "code",
      "metadata": {
        "id": "cx4DKkyWXnMU",
        "colab_type": "code",
        "outputId": "650c77c4-904e-491a-af3e-ef06b823b781",
        "colab": {
          "base_uri": "https://localhost:8080/",
          "height": 136
        }
      },
      "source": [
        "!git clone https://github.com/alexdobin/STAR.git"
      ],
      "execution_count": 20,
      "outputs": [
        {
          "output_type": "stream",
          "text": [
            "Cloning into 'STAR'...\n",
            "remote: Enumerating objects: 46, done.\u001b[K\n",
            "remote: Counting objects: 100% (46/46), done.\u001b[K\n",
            "remote: Compressing objects: 100% (29/29), done.\u001b[K\n",
            "remote: Total 8493 (delta 19), reused 31 (delta 15), pack-reused 8447\u001b[K\n",
            "Receiving objects: 100% (8493/8493), 435.50 MiB | 35.34 MiB/s, done.\n",
            "Resolving deltas: 100% (5961/5961), done.\n"
          ],
          "name": "stdout"
        }
      ]
    },
    {
      "cell_type": "markdown",
      "metadata": {
        "id": "WdVGkYqMn5n-",
        "colab_type": "text"
      },
      "source": [
        "Upload Human genome data (fasta file) and annotation (GTF or GFF file)\n",
        "https://useast.ensembl.org/info/data/ftp/index.html\n",
        "\n",
        "Use the soft-maksed primary assembly file, see explanation:\n",
        "https://bioinformatics.stackexchange.com/questions/540/what-ensembl-genome-version-should-i-use-for-alignments-e-g-toplevel-fa-vs-p"
      ]
    },
    {
      "cell_type": "code",
      "metadata": {
        "id": "cR51rYCro0Af",
        "colab_type": "code",
        "outputId": "290d971a-9a3f-48ff-d90d-d402dab1955b",
        "colab": {
          "base_uri": "https://localhost:8080/",
          "height": 377
        }
      },
      "source": [
        "!mkdir HumanGenome\n",
        "!gunzip -c /content/Homo_sapiens.GRCh38.100.gtf.gz > /content/HumanGenome/GRCh38.gtf\n",
        "!gunzip -c /content/Homo_sapiens.GRCh38.dna_sm.primary_assembly.fa.gz > /content/HumanGenome/GRCh38.fasta\n",
        "!head /content/HumanGenome/GRCh38.fasta\n",
        "!head /content/HumanGenome/GRCh38.gtf"
      ],
      "execution_count": 21,
      "outputs": [
        {
          "output_type": "stream",
          "text": [
            ">1 dna_sm:chromosome chromosome:GRCh38:1:1:248956422:1 REF\n",
            "nnnnnnnnnnnnnnnnnnnnnnnnnnnnnnnnnnnnnnnnnnnnnnnnnnnnnnnnnnnn\n",
            "nnnnnnnnnnnnnnnnnnnnnnnnnnnnnnnnnnnnnnnnnnnnnnnnnnnnnnnnnnnn\n",
            "nnnnnnnnnnnnnnnnnnnnnnnnnnnnnnnnnnnnnnnnnnnnnnnnnnnnnnnnnnnn\n",
            "nnnnnnnnnnnnnnnnnnnnnnnnnnnnnnnnnnnnnnnnnnnnnnnnnnnnnnnnnnnn\n",
            "nnnnnnnnnnnnnnnnnnnnnnnnnnnnnnnnnnnnnnnnnnnnnnnnnnnnnnnnnnnn\n",
            "nnnnnnnnnnnnnnnnnnnnnnnnnnnnnnnnnnnnnnnnnnnnnnnnnnnnnnnnnnnn\n",
            "nnnnnnnnnnnnnnnnnnnnnnnnnnnnnnnnnnnnnnnnnnnnnnnnnnnnnnnnnnnn\n",
            "nnnnnnnnnnnnnnnnnnnnnnnnnnnnnnnnnnnnnnnnnnnnnnnnnnnnnnnnnnnn\n",
            "nnnnnnnnnnnnnnnnnnnnnnnnnnnnnnnnnnnnnnnnnnnnnnnnnnnnnnnnnnnn\n",
            "#!genome-build GRCh38.p13\n",
            "#!genome-version GRCh38\n",
            "#!genome-date 2013-12\n",
            "#!genome-build-accession NCBI:GCA_000001405.28\n",
            "#!genebuild-last-updated 2019-06\n",
            "1\thavana\tgene\t11869\t14409\t.\t+\t.\tgene_id \"ENSG00000223972\"; gene_version \"5\"; gene_name \"DDX11L1\"; gene_source \"havana\"; gene_biotype \"transcribed_unprocessed_pseudogene\";\n",
            "1\thavana\ttranscript\t11869\t14409\t.\t+\t.\tgene_id \"ENSG00000223972\"; gene_version \"5\"; transcript_id \"ENST00000456328\"; transcript_version \"2\"; gene_name \"DDX11L1\"; gene_source \"havana\"; gene_biotype \"transcribed_unprocessed_pseudogene\"; transcript_name \"DDX11L1-202\"; transcript_source \"havana\"; transcript_biotype \"processed_transcript\"; tag \"basic\"; transcript_support_level \"1\";\n",
            "1\thavana\texon\t11869\t12227\t.\t+\t.\tgene_id \"ENSG00000223972\"; gene_version \"5\"; transcript_id \"ENST00000456328\"; transcript_version \"2\"; exon_number \"1\"; gene_name \"DDX11L1\"; gene_source \"havana\"; gene_biotype \"transcribed_unprocessed_pseudogene\"; transcript_name \"DDX11L1-202\"; transcript_source \"havana\"; transcript_biotype \"processed_transcript\"; exon_id \"ENSE00002234944\"; exon_version \"1\"; tag \"basic\"; transcript_support_level \"1\";\n",
            "1\thavana\texon\t12613\t12721\t.\t+\t.\tgene_id \"ENSG00000223972\"; gene_version \"5\"; transcript_id \"ENST00000456328\"; transcript_version \"2\"; exon_number \"2\"; gene_name \"DDX11L1\"; gene_source \"havana\"; gene_biotype \"transcribed_unprocessed_pseudogene\"; transcript_name \"DDX11L1-202\"; transcript_source \"havana\"; transcript_biotype \"processed_transcript\"; exon_id \"ENSE00003582793\"; exon_version \"1\"; tag \"basic\"; transcript_support_level \"1\";\n",
            "1\thavana\texon\t13221\t14409\t.\t+\t.\tgene_id \"ENSG00000223972\"; gene_version \"5\"; transcript_id \"ENST00000456328\"; transcript_version \"2\"; exon_number \"3\"; gene_name \"DDX11L1\"; gene_source \"havana\"; gene_biotype \"transcribed_unprocessed_pseudogene\"; transcript_name \"DDX11L1-202\"; transcript_source \"havana\"; transcript_biotype \"processed_transcript\"; exon_id \"ENSE00002312635\"; exon_version \"1\"; tag \"basic\"; transcript_support_level \"1\";\n"
          ],
          "name": "stdout"
        }
      ]
    },
    {
      "cell_type": "code",
      "metadata": {
        "id": "XlgppG3KqmZE",
        "colab_type": "code",
        "outputId": "9849c136-5a29-44c9-c198-41657e070d17",
        "colab": {
          "base_uri": "https://localhost:8080/",
          "height": 377
        }
      },
      "source": [
        "!/content/STAR/bin/Linux_x86_64/STAR --runThreadN 32 --runMode genomeGenerate --genomeDir /content/HumanGenome --genomeFastaFiles /content/HumanGenome/GRCh38.fasta --sjdbGTFfile /content/HumanGenome/GRCh38.gtf --sjdbOverhang 100 --genomeSAsparseD 2 --genomeSAindexNbases 14"
      ],
      "execution_count": 22,
      "outputs": [
        {
          "output_type": "stream",
          "text": [
            "May 30 00:26:05 ..... started STAR run\n",
            "May 30 00:26:05 ... starting to generate Genome files\n",
            "tcmalloc: large alloc 6276800512 bytes == 0x14b2000 @  0x7f7ac00ae887 0x4a2888 0x40cd70 0x7f7abecffb97 0x4167b5\n",
            "May 30 00:27:11 ... starting to sort Suffix Array. This may take a long time...\n",
            "May 30 00:27:22 ... sorting Suffix Array chunks and saving them to disk...\n",
            "May 30 00:35:46 ... loading chunks from disk, packing SA...\n",
            "tcmalloc: large alloc 13809885184 bytes == 0x5cfad6000 @  0x7f7ac00ae887 0x445a9d 0x4a5513 0x40cd70 0x7f7abecffb97 0x4167b5\n",
            "May 30 00:43:03 ... finished generating suffix array\n",
            "tcmalloc: large alloc 1565876224 bytes == 0x906cf8000 @  0x7f7ac00ae887 0x445a9d 0x4af594 0x4a61c7 0x40cd70 0x7f7abecffb97 0x4167b5\n",
            "May 30 00:43:03 ... generating Suffix Array index\n",
            "tcmalloc: large alloc 1565876224 bytes == 0x96424e000 @  0x7f7ac00ae887 0x445a9d 0x4aec53 0x4af676 0x4a61c7 0x40cd70 0x7f7abecffb97 0x4167b5\n",
            "May 30 00:46:57 ... completed Suffix Array index\n",
            "May 30 00:46:57 ..... processing annotations GTF\n",
            "May 30 00:47:34 ..... inserting junctions into the genome indices\n",
            "tcmalloc: large alloc 2478628864 bytes == 0x9c17a4000 @  0x7f7ac00ae887 0x4c4e37 0x4c6d6e 0x4a6ac4 0x40cd70 0x7f7abecffb97 0x4167b5\n",
            "tcmalloc: large alloc 2454093824 bytes == 0x1d3844000 @  0x7f7ac00ac1e7 0x7f7abed205c0 0x4c5066 0x4c6d6e 0x4a6ac4 0x40cd70 0x7f7abecffb97 0x4167b5\n",
            "May 30 00:50:39 ... writing Genome to disk ...\n",
            "May 30 00:51:09 ... writing Suffix Array to disk ...\n",
            "May 30 00:54:44 ... writing SAindex to disk\n",
            "May 30 00:55:09 ..... finished successfully\n"
          ],
          "name": "stdout"
        }
      ]
    },
    {
      "cell_type": "markdown",
      "metadata": {
        "id": "y5urM3KF8Ys5",
        "colab_type": "text"
      },
      "source": [
        "Download the output genome index"
      ]
    },
    {
      "cell_type": "markdown",
      "metadata": {
        "id": "7-Z2TjCL8eSL",
        "colab_type": "text"
      },
      "source": [
        "Download the sequence need to be aligned (SRA files) from NCBI, e.g.:\n",
        "https://trace.ncbi.nlm.nih.gov/Traces/sra/?run=SRR1554537\n",
        "\n",
        "Use the SRA toolkit to convert the SRA files into fastq files or directly download the fastq files using fastq-dump or fasterq-dump, see:\n",
        "https://reneshbedre.github.io/blog/fqutil.html\n"
      ]
    },
    {
      "cell_type": "code",
      "metadata": {
        "id": "4BkX33Eieq9z",
        "colab_type": "code",
        "colab": {}
      },
      "source": [
        "!wget -c https://repo.continuum.io/archive/Anaconda3-5.1.0-Linux-x86_64.sh\n",
        "!chmod +x Anaconda3-5.1.0-Linux-x86_64.sh\n",
        "!bash ./Anaconda3-5.1.0-Linux-x86_64.sh -b -f -p /usr/local\n",
        "\n",
        "import sys\n",
        "sys.path.append('/usr/local/lib/python3.6/site-packages/')\n",
        "\n",
        "!conda config --add channels defaults\n",
        "!conda config --add channels bioconda\n",
        "!conda config --add channels conda-forge"
      ],
      "execution_count": 0,
      "outputs": []
    },
    {
      "cell_type": "code",
      "metadata": {
        "id": "chKmJJPdm8pn",
        "colab_type": "code",
        "colab": {}
      },
      "source": [
        "!conda install -y sra-tools"
      ],
      "execution_count": 0,
      "outputs": []
    },
    {
      "cell_type": "code",
      "metadata": {
        "id": "gA0avdDUtC5H",
        "colab_type": "code",
        "outputId": "1e47d8c2-3907-4533-8973-856a0e86158c",
        "colab": {
          "base_uri": "https://localhost:8080/",
          "height": 68
        }
      },
      "source": [
        "!fasterq-dump SRR1554566"
      ],
      "execution_count": 13,
      "outputs": [
        {
          "output_type": "stream",
          "text": [
            "spots read      : 63,124,301\n",
            "reads read      : 126,248,602\n",
            "reads written   : 116,285,802\n"
          ],
          "name": "stdout"
        }
      ]
    },
    {
      "cell_type": "code",
      "metadata": {
        "id": "0GUkgwRSJoSb",
        "colab_type": "code",
        "colab": {}
      },
      "source": [
        "!gzip SRR1554566.fastq SRR1554566_1.fastq SRR1554566_2.fastq\n",
        "!cat SRR1554566.fastq.gz SRR1554566_1.fastq.gz SRR1554566_2.fastq.gz > SRR1554566_all.fastq.gz"
      ],
      "execution_count": 0,
      "outputs": []
    },
    {
      "cell_type": "code",
      "metadata": {
        "id": "xq8AaD28HL4O",
        "colab_type": "code",
        "outputId": "4af57296-b661-4bd6-bdc7-f1f4f3dd5b38",
        "colab": {
          "base_uri": "https://localhost:8080/",
          "height": 68
        }
      },
      "source": [
        "!fasterq-dump SRR2071377"
      ],
      "execution_count": 15,
      "outputs": [
        {
          "output_type": "stream",
          "text": [
            "spots read      : 66,177,040\n",
            "reads read      : 132,354,080\n",
            "reads written   : 132,354,080\n"
          ],
          "name": "stdout"
        }
      ]
    },
    {
      "cell_type": "code",
      "metadata": {
        "id": "AILl68Y1mkAY",
        "colab_type": "code",
        "colab": {}
      },
      "source": [
        "!gzip SRR2071377_1.fastq"
      ],
      "execution_count": 0,
      "outputs": []
    },
    {
      "cell_type": "code",
      "metadata": {
        "id": "s_SNu0CYto1c",
        "colab_type": "code",
        "colab": {}
      },
      "source": [
        "!gzip SRR2071377_2.fastq"
      ],
      "execution_count": 0,
      "outputs": []
    },
    {
      "cell_type": "code",
      "metadata": {
        "id": "od5H9_Cm2_qF",
        "colab_type": "code",
        "colab": {}
      },
      "source": [
        "!cat SRR2071377_1.fastq.gz SRR2071377_2.fastq.gz > SRR2071377_all.fastq.gz"
      ],
      "execution_count": 0,
      "outputs": []
    },
    {
      "cell_type": "code",
      "metadata": {
        "id": "lE01U5ER5_15",
        "colab_type": "code",
        "colab": {
          "base_uri": "https://localhost:8080/",
          "height": 173
        },
        "outputId": "86992ee8-bb07-4b1c-8de3-4ce8c486b29d"
      },
      "source": [
        "!/content/STAR/bin/Linux_x86_64/STAR --runThreadN 32 --runMode alignReads --genomeDir /content/HumanGenome --readFilesIn <(gunzip -c /content/SRR1554566_all.fastq.gz) <(gunzip -c /content/SRR2071377_all.fastq.gz)"
      ],
      "execution_count": 23,
      "outputs": [
        {
          "output_type": "stream",
          "text": [
            "May 30 00:56:02 ..... started STAR run\n",
            "May 30 00:56:02 ..... loading genome\n",
            "tcmalloc: large alloc 3215466496 bytes == 0x1570000 @  0x7f7cc5831887 0x469194 0x40a458 0x7f7cc4482b97 0x4167b5\n",
            "tcmalloc: large alloc 12784328704 bytes == 0xc0ff2000 @  0x7f7cc5831887 0x445a9d 0x4691a5 0x40a458 0x7f7cc4482b97 0x4167b5\n",
            "tcmalloc: large alloc 1565876224 bytes == 0x3bb84e000 @  0x7f7cc5831887 0x445a9d 0x465d1d 0x40a458 0x7f7cc4482b97 0x4167b5\n",
            "May 30 01:01:25 ..... started mapping\n",
            "May 30 01:08:44 ..... finished mapping\n",
            "May 30 01:08:45 ..... finished successfully\n"
          ],
          "name": "stdout"
        }
      ]
    },
    {
      "cell_type": "code",
      "metadata": {
        "id": "4dsuMgcWIO5W",
        "colab_type": "code",
        "colab": {
          "base_uri": "https://localhost:8080/",
          "height": 391
        },
        "outputId": "352a205e-e9cb-4ed5-9614-2e2fd8f2d049"
      },
      "source": [
        "!head /content/Aligned.out.sam\n",
        "!head /content/SJ.out.tab"
      ],
      "execution_count": 26,
      "outputs": [
        {
          "output_type": "stream",
          "text": [
            "head: cannot open '20' for reading: No such file or directory\n",
            "==> /content/Aligned.out.sam <==\n",
            "@HD\tVN:1.4\n",
            "@SQ\tSN:1\tLN:248956422\n",
            "@SQ\tSN:10\tLN:133797422\n",
            "@SQ\tSN:11\tLN:135086622\n",
            "@SQ\tSN:12\tLN:133275309\n",
            "@SQ\tSN:13\tLN:114364328\n",
            "@SQ\tSN:14\tLN:107043718\n",
            "@SQ\tSN:15\tLN:101991189\n",
            "@SQ\tSN:16\tLN:90338345\n",
            "@SQ\tSN:17\tLN:83257441\n",
            "1\t14830\t14969\t2\t2\t0\t0\t1\t43\n",
            "1\t15039\t15795\t2\t2\t1\t4\t0\t36\n",
            "1\t17056\t17232\t2\t2\t1\t1\t3\t35\n",
            "1\t17369\t17605\t2\t2\t1\t1\t2\t49\n",
            "1\t17743\t17914\t2\t2\t1\t2\t2\t43\n",
            "1\t18062\t18267\t2\t2\t1\t0\t2\t36\n",
            "1\t19140\t24737\t2\t2\t0\t0\t1\t46\n",
            "1\t139848\t142946\t2\t2\t0\t0\t1\t36\n",
            "1\t164792\t165883\t2\t2\t1\t0\t1\t26\n",
            "1\t165943\t168099\t2\t2\t1\t1\t1\t15\n"
          ],
          "name": "stdout"
        }
      ]
    }
  ]
}