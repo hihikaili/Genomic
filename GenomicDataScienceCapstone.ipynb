{
  "nbformat": 4,
  "nbformat_minor": 0,
  "metadata": {
    "colab": {
      "name": "GenomicDataScienceCapstone.ipynb",
      "provenance": [],
      "private_outputs": true,
      "machine_shape": "hm",
      "mount_file_id": "1Za-dTu3HaICcehYw6S9xDzkJQ3BM6T8a",
      "authorship_tag": "ABX9TyNZ6lUbSya7YhaJzXpKFHz7",
      "include_colab_link": true
    },
    "kernelspec": {
      "name": "python3",
      "display_name": "Python 3"
    },
    "accelerator": "TPU"
  },
  "cells": [
    {
      "cell_type": "markdown",
      "metadata": {
        "id": "view-in-github",
        "colab_type": "text"
      },
      "source": [
        "<a href=\"https://colab.research.google.com/github/hihikaili/Genomic/blob/master/GenomicDataScienceCapstone.ipynb\" target=\"_parent\"><img src=\"https://colab.research.google.com/assets/colab-badge.svg\" alt=\"Open In Colab\"/></a>"
      ]
    },
    {
      "cell_type": "code",
      "metadata": {
        "id": "rTQxvemMX73o",
        "colab_type": "code",
        "colab": {}
      },
      "source": [
        "!ps -aux|grep python"
      ],
      "execution_count": 0,
      "outputs": []
    },
    {
      "cell_type": "code",
      "metadata": {
        "id": "wVFRV1r9ZHmx",
        "colab_type": "code",
        "colab": {}
      },
      "source": [
        "!kill -9 2157 2217 2285 2287"
      ],
      "execution_count": 0,
      "outputs": []
    },
    {
      "cell_type": "code",
      "metadata": {
        "id": "wICAGbYxY-1V",
        "colab_type": "code",
        "colab": {}
      },
      "source": [
        "gpu_info = !nvidia-smi\n",
        "gpu_info = '\\n'.join(gpu_info)\n",
        "if gpu_info.find('failed') >= 0:\n",
        "  print('Select the Runtime > \"Change runtime type\" menu to enable a GPU accelerator, ')\n",
        "  print('and then re-execute this cell.')\n",
        "else:\n",
        "  print(gpu_info)"
      ],
      "execution_count": 0,
      "outputs": []
    },
    {
      "cell_type": "code",
      "metadata": {
        "id": "30iIm83PZLwz",
        "colab_type": "code",
        "colab": {}
      },
      "source": [
        "from psutil import virtual_memory\n",
        "ram_gb = virtual_memory().total / 1e9\n",
        "print('Your runtime has {:.1f} gigabytes of available RAM\\n'.format(ram_gb))\n",
        "\n",
        "if ram_gb < 20:\n",
        "  print('To enable a high-RAM runtime, select the Runtime > \"Change runtime type\"')\n",
        "  print('menu, and then select High-RAM in the Runtime shape dropdown. Then, ')\n",
        "  print('re-execute this cell.')\n",
        "else:\n",
        "  print('You are using a high-RAM runtime!')"
      ],
      "execution_count": 0,
      "outputs": []
    },
    {
      "cell_type": "code",
      "metadata": {
        "id": "cx4DKkyWXnMU",
        "colab_type": "code",
        "colab": {}
      },
      "source": [
        "!git clone https://github.com/alexdobin/STAR.git"
      ],
      "execution_count": 0,
      "outputs": []
    },
    {
      "cell_type": "markdown",
      "metadata": {
        "id": "WdVGkYqMn5n-",
        "colab_type": "text"
      },
      "source": [
        "Upload Human genome data (fasta file) and annotation (GTF or GFF file)\n",
        "https://useast.ensembl.org/info/data/ftp/index.html\n",
        "\n",
        "Use the soft-maksed primary assembly file, see explanation:\n",
        "https://bioinformatics.stackexchange.com/questions/540/what-ensembl-genome-version-should-i-use-for-alignments-e-g-toplevel-fa-vs-p"
      ]
    },
    {
      "cell_type": "code",
      "metadata": {
        "id": "cR51rYCro0Af",
        "colab_type": "code",
        "colab": {}
      },
      "source": [
        "!mkdir HumanGenome\n",
        "!gunzip -c /content/Homo_sapiens.GRCh38.100.gtf.gz > /content/HumanGenome/GRCh38.gtf\n",
        "!gunzip -c /content/Homo_sapiens.GRCh38.dna_sm.primary_assembly.fa.gz > /content/HumanGenome/GRCh38.fasta\n",
        "!head /content/HumanGenome/GRCh38.fasta\n",
        "!head /content/HumanGenome/GRCh38.gtf"
      ],
      "execution_count": 0,
      "outputs": []
    },
    {
      "cell_type": "code",
      "metadata": {
        "id": "XlgppG3KqmZE",
        "colab_type": "code",
        "colab": {}
      },
      "source": [
        "!/content/STAR/bin/Linux_x86_64/STAR --runThreadN 32 --runMode genomeGenerate --genomeDir /content/HumanGenome --genomeFastaFiles /content/HumanGenome/GRCh38.fasta --sjdbGTFfile /content/HumanGenome/GRCh38.gtf --sjdbOverhang 100 --genomeSAsparseD 2 --genomeSAindexNbases 14"
      ],
      "execution_count": 0,
      "outputs": []
    },
    {
      "cell_type": "markdown",
      "metadata": {
        "id": "y5urM3KF8Ys5",
        "colab_type": "text"
      },
      "source": [
        "Download the output genome index"
      ]
    },
    {
      "cell_type": "markdown",
      "metadata": {
        "id": "7-Z2TjCL8eSL",
        "colab_type": "text"
      },
      "source": [
        "Download the sequence need to be aligned (SRA files) from NCBI, e.g.:\n",
        "https://trace.ncbi.nlm.nih.gov/Traces/sra/?run=SRR1554537\n",
        "\n",
        "Use the SRA toolkit to convert the SRA files into fastq files or directly download the fastq files using fastq-dump or fasterq-dump, see:\n",
        "https://reneshbedre.github.io/blog/fqutil.html\n"
      ]
    },
    {
      "cell_type": "code",
      "metadata": {
        "id": "4BkX33Eieq9z",
        "colab_type": "code",
        "colab": {}
      },
      "source": [
        "!wget -c https://repo.continuum.io/archive/Anaconda3-5.1.0-Linux-x86_64.sh\n",
        "!chmod +x Anaconda3-5.1.0-Linux-x86_64.sh\n",
        "!bash ./Anaconda3-5.1.0-Linux-x86_64.sh -b -f -p /usr/local\n",
        "\n",
        "import sys\n",
        "sys.path.append('/usr/local/lib/python3.6/site-packages/')\n",
        "\n",
        "!conda config --add channels defaults\n",
        "!conda config --add channels bioconda\n",
        "!conda config --add channels conda-forge"
      ],
      "execution_count": 0,
      "outputs": []
    },
    {
      "cell_type": "code",
      "metadata": {
        "id": "chKmJJPdm8pn",
        "colab_type": "code",
        "colab": {}
      },
      "source": [
        "!conda install -y sra-tools"
      ],
      "execution_count": 0,
      "outputs": []
    },
    {
      "cell_type": "markdown",
      "metadata": {
        "id": "cvrJz2b_2uU_",
        "colab_type": "text"
      },
      "source": [
        "Connect to Hard Drive for large data storage by using Jupyter server, see:\n",
        "https://github.com/googlecolab/jupyter_http_over_ws\n",
        "\n",
        "If the above is not working, the most efficient way is downloading the data from European Nucleotide Archive (https://www.ebi.ac.uk/) FTP using python, and use the gz file in mapping, see the following:"
      ]
    },
    {
      "cell_type": "code",
      "metadata": {
        "id": "MoqRReHS7a4-",
        "colab_type": "code",
        "colab": {}
      },
      "source": [
        "import shutil\n",
        "import urllib.request as request\n",
        "from contextlib import closing\n",
        "\n",
        "with closing(request.urlopen('ftp://ftp.sra.ebi.ac.uk/vol1/fastq/SRR207/007/SRR2071377/SRR2071377_2.fastq.gz')) as r:\n",
        "    with open('SRR2071377_2.fastq.gz', 'wb') as f:\n",
        "        shutil.copyfileobj(r, f)"
      ],
      "execution_count": 0,
      "outputs": []
    },
    {
      "cell_type": "code",
      "metadata": {
        "id": "439OYm5Cy61V",
        "colab_type": "code",
        "colab": {}
      },
      "source": [
        "!cat SRR1554566* > all_SRR1554566.fastq.gz"
      ],
      "execution_count": 0,
      "outputs": []
    },
    {
      "cell_type": "code",
      "metadata": {
        "id": "ai2UM0fHs79h",
        "colab_type": "code",
        "colab": {}
      },
      "source": [
        "!cat SRR2071377* > all_SRR2071377.fastq.gz"
      ],
      "execution_count": 0,
      "outputs": []
    },
    {
      "cell_type": "code",
      "metadata": {
        "id": "0OUe8Lo6tsa1",
        "colab_type": "code",
        "colab": {}
      },
      "source": [
        "!/content/STAR/bin/Linux_x86_64/STAR --runThreadN 32 --genomeDir /content/HumanGenome --readFilesIn /content/all_SRR1554566.fastq.gz /content/all_SRR2071377.fastq.gz --readFilesCommand gunzip -c --outFileNamePrefix SRX683824_ --quantMode GeneCounts --outFilterScoreMinOverLread 0.3 --outFilterMatchNminOverLread 0.3 --outSAMtype BAM Unsorted"
      ],
      "execution_count": 0,
      "outputs": []
    },
    {
      "cell_type": "code",
      "metadata": {
        "id": "cHQ4jsEE_I8K",
        "colab_type": "code",
        "colab": {}
      },
      "source": [
        "!split -b 1000000000 /content/SRX683824_Aligned.out.bam SRX683824_Aligned.out.bam"
      ],
      "execution_count": 0,
      "outputs": []
    },
    {
      "cell_type": "code",
      "metadata": {
        "id": "4dsuMgcWIO5W",
        "colab_type": "code",
        "colab": {}
      },
      "source": [
        "!head -30 /content/SRX683824_Log.final.out\n",
        "!head /content/SRX683824_SJ.out.tab\n",
        "!head /content/SRX683824_ReadsPerGene.out.tab"
      ],
      "execution_count": 0,
      "outputs": []
    }
  ]
}